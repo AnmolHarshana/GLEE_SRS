{
 "cells": [
  {
   "cell_type": "markdown",
   "metadata": {},
   "source": [
    "<h1>Micrometeoroid detection on lunar surface via accelerometer data</h1>\n",
    "<h2>Approach:</h2> Accelerometer data consists of acceleration versus time. Acceleration data is separately recorded\n",
    "for three directions.As I have observed there is no strong correlation between the data of three components.So I'll proceed with finding maximas in one stream of data.To separate micrometeoroid impact part in the signal, we'll have to decide some threshold amplitude. If the amplitude of signal exceeds the threshold we'll store the time and amplitude of signal at that point in a different list.(This is done using indices)\n"
   ]
  },
  {
   "cell_type": "code",
   "execution_count": 1,
   "metadata": {},
   "outputs": [],
   "source": [
    "'''Importing libraries for functionalities'''\n",
    "\n",
    "import numpy as np\n",
    "import pandas as pd\n",
    "import matplotlib.pyplot as plt"
   ]
  },
  {
   "cell_type": "code",
   "execution_count": 2,
   "metadata": {},
   "outputs": [],
   "source": [
    "'''Creating functions for detection and isolation of specific part of input signal '''\n",
    "\n",
    "def Detect_maxim(data,thresh_Amplitude):\n",
    "    '''The function takes data as array and threshhold amplitude as specified ,It will return another array\n",
    "    consisting specifically of the parts of data above threshold amplitude.Rest all will be set to zero.'''\n",
    "    filtered_Data=list(data)\n",
    "    filtered_Data=np.array(filtered_Data)\n",
    "    for i in range(np.size(data)):\n",
    "        if abs(data[i])>=thresh_Amplitude:\n",
    "            filtered_Data[i]=data[i]\n",
    "        else:\n",
    "            filtered_Data[i]=0\n",
    "    return filtered_Data  "
   ]
  },
  {
   "cell_type": "markdown",
   "metadata": {},
   "source": [
    "It is possible that we may get single or double points as maxima due to some reason( try later).We may get also get one or two break points within our expected continuous maxima.So there is need to eliminate such points from our data. "
   ]
  },
  {
   "cell_type": "code",
   "execution_count": 3,
   "metadata": {},
   "outputs": [],
   "source": [
    "def Filter_maxim(filtered_Data):\n",
    "    '''This function takes filtered data as an array and returns an array in which the expected continuous maximas are left.'''\n",
    "    for i in range(np.size(filtered_Data)-2):\n",
    "        if filtered_Data[i]!=0.0 and filtered_Data[i+1]==0 and filtered_Data[i+2]!=0:\n",
    "            filtered_Data[i+1]=0.0001*filtered_Data[i]\n",
    "    \n",
    "    return filtered_Data"
   ]
  },
  {
   "cell_type": "code",
   "execution_count": 4,
   "metadata": {},
   "outputs": [],
   "source": [
    "def Count_maxim(data):\n",
    "    '''This function takes filtered data of accelerometer as input and returns number of peaks or maximas as output'''\n",
    "    count=0\n",
    "\n",
    "    for i in range(np.size(data)-1):\n",
    "        if data[i]!=0 and abs(data[i+1])==0:\n",
    "            count=count+1\n",
    "    return count\n",
    "            \n",
    "            "
   ]
  },
  {
   "cell_type": "code",
   "execution_count": 5,
   "metadata": {},
   "outputs": [],
   "source": [
    "def isolate_maxim(data):\n",
    "    '''This function takes data as input and returns isolated maximas(indices only) along with width as two lists\n",
    "    where the first list is the list of isolated maximas(odd=starting index,even=ending index) and second is width'''\n",
    "    a=list()\n",
    "    c=list()\n",
    "    b=0\n",
    "    if data[0]!=0:\n",
    "        a.append(0)\n",
    "    for i in range(np.size(data)-1):\n",
    "        if data[i]==0 and data[i+1]!=0:\n",
    "            a.append(i+1)\n",
    "        elif  data[i]!=0 and data[i+1]==0:\n",
    "            a.append(i)\n",
    "    for i in range(int(len(a)/2)):\n",
    "            c.append(a[2*i+1]-a[2*i]+1)\n",
    "    return a,c\n"
   ]
  },
  {
   "cell_type": "code",
   "execution_count": 6,
   "metadata": {},
   "outputs": [
    {
     "data": {
      "text/plain": [
       "'b=list()\\nc=list()\\nfor j in range(int(len(ad)/2)):\\n    for i in range(ad[2*j],ad[2*j+1]):\\n        b.append(abs(d[i]))\\n    c.append(max(b))\\n    for i in range(int(a[2*j+1]-a[2*j])+1):\\n        b[i]=0\\n    \\nb,c'"
      ]
     },
     "execution_count": 6,
     "metadata": {},
     "output_type": "execute_result"
    }
   ],
   "source": [
    "\n",
    "'''b=list()\n",
    "c=list()\n",
    "for j in range(int(len(ad)/2)):\n",
    "    for i in range(ad[2*j],ad[2*j+1]):\n",
    "        b.append(abs(d[i]))\n",
    "    c.append(max(b))\n",
    "    for i in range(int(a[2*j+1]-a[2*j])+1):\n",
    "        b[i]=0\n",
    "    \n",
    "b,c'''"
   ]
  },
  {
   "cell_type": "code",
   "execution_count": 7,
   "metadata": {},
   "outputs": [
    {
     "data": {
      "text/plain": [
       "array([0., 2., 3., 4., 2., 2., 2., 0., 2., 2., 0., 0., 0., 0., 0., 2., 0.,\n",
       "       0.])"
      ]
     },
     "execution_count": 7,
     "metadata": {},
     "output_type": "execute_result"
    }
   ],
   "source": [
    "b=[1.0,2.0,3.0,4.0,2.0,2.0,2.0,1.0,2.0,2.0,1.0,1.0,1.0,1.0,1.0,2.0,1.0,1.0]\n",
    "b=np.array(list(b))\n",
    "c=Detect_maxim(b,2)\n",
    "c"
   ]
  },
  {
   "cell_type": "code",
   "execution_count": 8,
   "metadata": {},
   "outputs": [
    {
     "data": {
      "text/plain": [
       "array([0.e+00, 2.e+00, 3.e+00, 4.e+00, 2.e+00, 2.e+00, 2.e+00, 2.e-04,\n",
       "       2.e+00, 2.e+00, 0.e+00, 0.e+00, 0.e+00, 0.e+00, 0.e+00, 2.e+00,\n",
       "       0.e+00, 0.e+00])"
      ]
     },
     "execution_count": 8,
     "metadata": {},
     "output_type": "execute_result"
    }
   ],
   "source": [
    "d=Filter_maxim(c)\n",
    "d"
   ]
  },
  {
   "cell_type": "code",
   "execution_count": 9,
   "metadata": {},
   "outputs": [
    {
     "data": {
      "text/plain": [
       "2"
      ]
     },
     "execution_count": 9,
     "metadata": {},
     "output_type": "execute_result"
    }
   ],
   "source": [
    "Count_maxim(d)"
   ]
  },
  {
   "cell_type": "code",
   "execution_count": 10,
   "metadata": {},
   "outputs": [
    {
     "name": "stdout",
     "output_type": "stream",
     "text": [
      "[1, 9, 15, 15] [9, 1]\n"
     ]
    }
   ],
   "source": [
    "ad,bs=isolate_maxim(d)\n",
    "print(ad,bs)"
   ]
  },
  {
   "cell_type": "code",
   "execution_count": 11,
   "metadata": {},
   "outputs": [],
   "source": [
    "#creating a sine pulse as input\n",
    "Theta=np.linspace(0,6*np.pi,1000)#theta =integral of angular velpcity wrt time,in discrete case this will be equal to cumulaitve \n",
    "sine_Pulse=np.sin(Theta)\n",
    "list1=list(sine_Pulse)\n",
    "for i in range(750):\n",
    "    list1.append(0);\n",
    "#Creating array for final signal\n",
    "signal_Input=np.array(list1);"
   ]
  },
  {
   "cell_type": "code",
   "execution_count": 12,
   "metadata": {},
   "outputs": [
    {
     "data": {
      "text/plain": [
       "array([0.        , 0.0188673 , 0.03772789, ..., 0.        , 0.        ,\n",
       "       0.        ])"
      ]
     },
     "execution_count": 12,
     "metadata": {},
     "output_type": "execute_result"
    }
   ],
   "source": [
    "filter1=Detect_maxim(signal_Input,0.001)\n",
    "filter1"
   ]
  },
  {
   "cell_type": "code",
   "execution_count": 13,
   "metadata": {},
   "outputs": [
    {
     "data": {
      "text/plain": [
       "array([0.        , 0.0188673 , 0.03772789, ..., 0.        , 0.        ,\n",
       "       0.        ])"
      ]
     },
     "execution_count": 13,
     "metadata": {},
     "output_type": "execute_result"
    }
   ],
   "source": [
    "filter2=Filter_maxim(filter1)\n",
    "filter2"
   ]
  },
  {
   "cell_type": "code",
   "execution_count": 14,
   "metadata": {},
   "outputs": [
    {
     "data": {
      "text/plain": [
       "1"
      ]
     },
     "execution_count": 14,
     "metadata": {},
     "output_type": "execute_result"
    }
   ],
   "source": [
    "filter3=Count_maxim(filter2)\n",
    "filter3"
   ]
  },
  {
   "cell_type": "code",
   "execution_count": 15,
   "metadata": {},
   "outputs": [
    {
     "data": {
      "text/plain": [
       "([1, 998], [998])"
      ]
     },
     "execution_count": 15,
     "metadata": {},
     "output_type": "execute_result"
    }
   ],
   "source": [
    "filter4=isolate_maxim(filter2)\n",
    "filter4"
   ]
  },
  {
   "cell_type": "code",
   "execution_count": 16,
   "metadata": {},
   "outputs": [
    {
     "data": {
      "text/plain": [
       "[<matplotlib.lines.Line2D at 0x14a3ee4f488>]"
      ]
     },
     "execution_count": 16,
     "metadata": {},
     "output_type": "execute_result"
    },
    {
     "data": {
      "image/png": "[encoded data removed]",
      "text/plain": [
       "<Figure size 432x288 with 1 Axes>"
      ]
     },
     "metadata": {
      "needs_background": "light"
     },
     "output_type": "display_data"
    }
   ],
   "source": [
    "plt.plot(np.arange(0,1750,1),filter1,'.')\n",
    "plt.plot(np.arange(0,1750,1),signal_Input)"
   ]
  },
  {
   "cell_type": "code",
   "execution_count": 17,
   "metadata": {},
   "outputs": [],
   "source": [
    "import scipy.signal as signal#this is useful only for continuous waveform"
   ]
  },
  {
   "cell_type": "code",
   "execution_count": 18,
   "metadata": {},
   "outputs": [
    {
     "data": {
      "text/plain": [
       "(array([ 83, 250, 416, 583, 749, 916], dtype=int64), {})"
      ]
     },
     "execution_count": 18,
     "metadata": {},
     "output_type": "execute_result"
    }
   ],
   "source": [
    "signal.find_peaks(abs(signal_Input))"
   ]
  },
  {
   "cell_type": "code",
   "execution_count": 19,
   "metadata": {},
   "outputs": [],
   "source": [
    "data_Initial= pd.read_csv('elcentro.dat', sep = ' \\t ',engine='python')\n",
    "time=np.array(data_Initial.iloc[::,0])\n",
    "accl=np.array(data_Initial.iloc[::,1])"
   ]
  },
  {
   "cell_type": "code",
   "execution_count": 20,
   "metadata": {},
   "outputs": [
    {
     "data": {
      "text/plain": [
       "[<matplotlib.lines.Line2D at 0x14a40b212c8>]"
      ]
     },
     "execution_count": 20,
     "metadata": {},
     "output_type": "execute_result"
    },
    {
     "data": {
      "image/png": "[encoded data removed]",
      "text/plain": [
       "<Figure size 432x288 with 1 Axes>"
      ]
     },
     "metadata": {
      "needs_background": "light"
     },
     "output_type": "display_data"
    }
   ],
   "source": [
    "plt.plot(time,accl,linewidth='0.5')"
   ]
  },
  {
   "cell_type": "code",
   "execution_count": 21,
   "metadata": {},
   "outputs": [
    {
     "data": {
      "text/plain": [
       "array([0.0063 , 0.00364, 0.     , ..., 0.     , 0.     , 0.     ])"
      ]
     },
     "execution_count": 21,
     "metadata": {},
     "output_type": "execute_result"
    }
   ],
   "source": [
    "filter1=Detect_maxim(accl,0.001)\n",
    "filter1"
   ]
  },
  {
   "cell_type": "code",
   "execution_count": 22,
   "metadata": {},
   "outputs": [
    {
     "data": {
      "text/plain": [
       "array([6.30e-03, 3.64e-03, 3.64e-07, ..., 0.00e+00, 0.00e+00, 0.00e+00])"
      ]
     },
     "execution_count": 22,
     "metadata": {},
     "output_type": "execute_result"
    }
   ],
   "source": [
    "filter2=Filter_maxim(filter1)\n",
    "filter2"
   ]
  },
  {
   "cell_type": "code",
   "execution_count": 23,
   "metadata": {},
   "outputs": [
    {
     "data": {
      "text/plain": [
       "2"
      ]
     },
     "execution_count": 23,
     "metadata": {},
     "output_type": "execute_result"
    }
   ],
   "source": [
    "filter3=Count_maxim(filter2)\n",
    "filter3"
   ]
  },
  {
   "cell_type": "code",
   "execution_count": 24,
   "metadata": {},
   "outputs": [
    {
     "data": {
      "text/plain": [
       "([0, 1123, 1126, 1542], [1124, 417])"
      ]
     },
     "execution_count": 24,
     "metadata": {},
     "output_type": "execute_result"
    }
   ],
   "source": [
    "filter4=isolate_maxim(filter2)\n",
    "filter4"
   ]
  },
  {
   "cell_type": "code",
   "execution_count": null,
   "metadata": {},
   "outputs": [],
   "source": []
  },
  {
   "cell_type": "code",
   "execution_count": null,
   "metadata": {},
   "outputs": [],
   "source": []
  }
 ],
 "metadata": {
  "kernelspec": {
   "display_name": "Python 3",
   "language": "python",
   "name": "python3"
  },
  "language_info": {
   "codemirror_mode": {
    "name": "ipython",
    "version": 3
   },
   "file_extension": ".py",
   "mimetype": "text/x-python",
   "name": "python",
   "nbconvert_exporter": "python",
   "pygments_lexer": "ipython3",
   "version": "3.7.4"
  }
 },
 "nbformat": 4,
 "nbformat_minor": 2
}
